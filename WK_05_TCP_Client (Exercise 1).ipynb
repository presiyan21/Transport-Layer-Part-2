{
 "cells": [
  {
   "cell_type": "code",
   "execution_count": null,
   "metadata": {},
   "outputs": [
    {
     "name": "stdout",
     "output_type": "stream",
     "text": [
      "Server response: ACK: 1\n",
      "Time taken: 0.0 seconds\n"
     ]
    }
   ],
   "source": [
    "# TCP Client\n",
    "import socket\n",
    "import datetime\n",
    "\n",
    "# Create a TCP client socket\n",
    "client_socket = socket.socket(socket.AF_INET, socket.SOCK_STREAM)\n",
    "client_socket.connect(('localhost', 65432))\n",
    "\n",
    "# Get user input for the message\n",
    "message = input(\"Enter message: \")\n",
    "\n",
    "# Record the start time\n",
    "start_time = datetime.datetime.now()\n",
    "\n",
    "# Send the message\n",
    "client_socket.sendall(message.encode())\n",
    "\n",
    "# Receive the response\n",
    "response = client_socket.recv(1024)\n",
    "\n",
    "# Record the end time\n",
    "end_time = datetime.datetime.now()\n",
    "\n",
    "# Calculate the duration\n",
    "elapsed_time = end_time - start_time\n",
    "\n",
    "# Display the server response and the elapsed time\n",
    "print(f\"Server response: {response.decode()}\")\n",
    "print(f\"Time taken: {elapsed_time.total_seconds()} seconds\")\n",
    "\n",
    "# Close the socket\n",
    "client_socket.close()\n"
   ]
  },
  {
   "cell_type": "code",
   "execution_count": null,
   "metadata": {},
   "outputs": [],
   "source": []
  }
 ],
 "metadata": {
  "kernelspec": {
   "display_name": "base",
   "language": "python",
   "name": "python3"
  },
  "language_info": {
   "codemirror_mode": {
    "name": "ipython",
    "version": 3
   },
   "file_extension": ".py",
   "mimetype": "text/x-python",
   "name": "python",
   "nbconvert_exporter": "python",
   "pygments_lexer": "ipython3",
   "version": "3.12.4"
  }
 },
 "nbformat": 4,
 "nbformat_minor": 2
}
