{
 "cells": [
  {
   "cell_type": "code",
   "execution_count": null,
   "metadata": {},
   "outputs": [],
   "source": [
    "# UDP Server\n",
    "import socket\n",
    "\n",
    "# Create a UDP socket\n",
    "server_socket = socket.socket(socket.AF_INET, socket.SOCK_DGRAM)\n",
    "\n",
    "# Bind the socket to an address and port\n",
    "server_socket.bind(('localhost', 65432))\n",
    "\n",
    "print(\"UDP Server is listening...\")\n",
    "\n",
    "with open('received_file_udp.txt', 'wb') as f:  # Open file for writing in binary mode\n",
    "    while True:\n",
    "        data, client_address = server_socket.recvfrom(1024)  # Receive data\n",
    "        if not data or data == b\"EOF\":  # Check for End of File signal\n",
    "            break\n",
    "        f.write(data)  # Write data to file\n",
    "\n",
    "print(\"File received and saved as 'received_file_udp.txt'.\")\n",
    "server_socket.close()\n"
   ]
  }
 ],
 "metadata": {
  "kernelspec": {
   "display_name": "base",
   "language": "python",
   "name": "python3"
  },
  "language_info": {
   "codemirror_mode": {
    "name": "ipython",
    "version": 3
   },
   "file_extension": ".py",
   "mimetype": "text/x-python",
   "name": "python",
   "nbconvert_exporter": "python",
   "pygments_lexer": "ipython3",
   "version": "3.12.4"
  }
 },
 "nbformat": 4,
 "nbformat_minor": 2
}
