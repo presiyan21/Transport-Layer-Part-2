{
 "cells": [
  {
   "cell_type": "code",
   "execution_count": null,
   "metadata": {},
   "outputs": [
    {
     "name": "stdout",
     "output_type": "stream",
     "text": [
      "TCP Server is listening...\n",
      "Connected to ('127.0.0.1', 52791)\n",
      "File received and saved as 'received_file.txt'.\n",
      "Connected to ('127.0.0.1', 52885)\n",
      "File received and saved as 'received_file.txt'.\n",
      "Connected to ('127.0.0.1', 53071)\n",
      "File received and saved as 'received_file.txt'.\n"
     ]
    }
   ],
   "source": [
    "# TCP Server\n",
    "import socket\n",
    "\n",
    "# Create a TCP socket\n",
    "server_socket = socket.socket(socket.AF_INET, socket.SOCK_STREAM)\n",
    "server_socket.bind(('localhost', 65432))\n",
    "server_socket.listen(1)  # Allow 1 pending connection\n",
    "\n",
    "print(\"TCP Server is listening...\")\n",
    "\n",
    "while True:\n",
    "    client_socket, client_address = server_socket.accept()\n",
    "    print(f\"Connected to {client_address}\")\n",
    "\n",
    "    with open('received_file.txt', 'wb') as f:  # Open file for writing in binary mode\n",
    "        while True:\n",
    "            data = client_socket.recv(1024)  # Receive data\n",
    "            if not data:\n",
    "                break  # Stop if no more data\n",
    "            f.write(data)  # Write data to file\n",
    "\n",
    "    print(\"File received and saved as 'received_file.txt'.\")\n",
    "    client_socket.close()\n"
   ]
  }
 ],
 "metadata": {
  "kernelspec": {
   "display_name": "base",
   "language": "python",
   "name": "python3"
  },
  "language_info": {
   "codemirror_mode": {
    "name": "ipython",
    "version": 3
   },
   "file_extension": ".py",
   "mimetype": "text/x-python",
   "name": "python",
   "nbconvert_exporter": "python",
   "pygments_lexer": "ipython3",
   "version": "3.12.4"
  }
 },
 "nbformat": 4,
 "nbformat_minor": 2
}
