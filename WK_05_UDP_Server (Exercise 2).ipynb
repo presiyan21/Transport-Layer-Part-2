{
 "cells": [
  {
   "cell_type": "code",
   "execution_count": null,
   "metadata": {},
   "outputs": [
    {
     "name": "stdout",
     "output_type": "stream",
     "text": [
      "UDP Server is listening...\n",
      "Received from ('127.0.0.1', 57710): hello server\n"
     ]
    }
   ],
   "source": [
    "# UDP Server\n",
    "import socket\n",
    "\n",
    "# Create a UDP socket\n",
    "server_socket = socket.socket(socket.AF_INET, socket.SOCK_DGRAM)\n",
    "\n",
    "# Bind the socket to an address and port\n",
    "server_socket.bind(('localhost', 65432))\n",
    "\n",
    "print(\"UDP Server is listening...\")\n",
    "\n",
    "while True:\n",
    "    data, client_address = server_socket.recvfrom(1024)  # Receive data from client\n",
    "    print(f\"Received from {client_address}: {data.decode()}\")\n",
    "\n",
    "    # Echo back the data\n",
    "    server_socket.sendto(b\"ACK: \" + data, client_address)\n"
   ]
  }
 ],
 "metadata": {
  "kernelspec": {
   "display_name": "base",
   "language": "python",
   "name": "python3"
  },
  "language_info": {
   "codemirror_mode": {
    "name": "ipython",
    "version": 3
   },
   "file_extension": ".py",
   "mimetype": "text/x-python",
   "name": "python",
   "nbconvert_exporter": "python",
   "pygments_lexer": "ipython3",
   "version": "3.12.4"
  }
 },
 "nbformat": 4,
 "nbformat_minor": 2
}
