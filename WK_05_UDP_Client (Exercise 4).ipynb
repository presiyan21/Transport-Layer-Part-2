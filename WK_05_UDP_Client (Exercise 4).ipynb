{
 "cells": [
  {
   "cell_type": "code",
   "execution_count": null,
   "metadata": {},
   "outputs": [
    {
     "name": "stdout",
     "output_type": "stream",
     "text": [
      "File sent successfully using UDP!\n",
      "Time taken: 0.005687 seconds\n"
     ]
    }
   ],
   "source": [
    "# UDP Client\n",
    "import socket\n",
    "import datetime\n",
    "\n",
    "# Create a UDP client socket\n",
    "client_socket = socket.socket(socket.AF_INET, socket.SOCK_DGRAM)\n",
    "\n",
    "server_address = ('localhost', 65432)\n",
    "\n",
    "# Record the start time\n",
    "start_time = datetime.datetime.now()\n",
    "\n",
    "# Open and send the file in chunks\n",
    "with open(r\"C:\\Users\\presi\\Desktop\\file_to_send.txt\", 'rb') as f:\n",
    "    while True:\n",
    "        chunk = f.read(1024)  # Read file in 1024-byte chunks\n",
    "        if not chunk:\n",
    "            break  # Stop when the file ends\n",
    "        client_socket.sendto(chunk, server_address)  # Send the chunk\n",
    "\n",
    "# Send EOF signal to indicate the end of the file\n",
    "client_socket.sendto(b\"EOF\", server_address)\n",
    "\n",
    "# Record the end time\n",
    "end_time = datetime.datetime.now()\n",
    "\n",
    "# Calculate time taken\n",
    "elapsed_time = end_time - start_time\n",
    "\n",
    "print(f\"File sent successfully using UDP!\")\n",
    "print(f\"Time taken: {elapsed_time.total_seconds()} seconds\")\n",
    "\n",
    "# Close the socket\n",
    "client_socket.close()\n"
   ]
  }
 ],
 "metadata": {
  "kernelspec": {
   "display_name": "base",
   "language": "python",
   "name": "python3"
  },
  "language_info": {
   "codemirror_mode": {
    "name": "ipython",
    "version": 3
   },
   "file_extension": ".py",
   "mimetype": "text/x-python",
   "name": "python",
   "nbconvert_exporter": "python",
   "pygments_lexer": "ipython3",
   "version": "3.12.4"
  }
 },
 "nbformat": 4,
 "nbformat_minor": 2
}
